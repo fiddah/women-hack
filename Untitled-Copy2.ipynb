{
 "cells": [
  {
   "cell_type": "code",
   "execution_count": 1,
   "metadata": {},
   "outputs": [],
   "source": [
    "import pandas as pd\n",
    "import seaborn as sns\n",
    "import matplotlib.pyplot as plt\n",
    "\n",
    "from sklearn.model_selection import train_test_split\n",
    "from sklearn.linear_model import LogisticRegression\n",
    "from sklearn.ensemble import RandomForestClassifier\n",
    "from sklearn.metrics import accuracy_score,  mean_squared_error, classification_report, f1_score, roc_auc_score\n",
    "\n",
    "from sklearn.preprocessing import LabelEncoder\n",
    "label = LabelEncoder()\n"
   ]
  },
  {
   "cell_type": "code",
   "execution_count": 2,
   "metadata": {},
   "outputs": [],
   "source": [
    "train = pd.read_csv('Train.csv')\n",
    "test = pd.read_csv('Test.csv')\n",
    "samplesubmission = pd.read_csv('SampleSubmission.csv')\n",
    "variable_definations = pd.read_csv('VariableDefinitions.csv')"
   ]
  },
  {
   "cell_type": "code",
   "execution_count": 3,
   "metadata": {},
   "outputs": [
    {
     "name": "stdout",
     "output_type": "stream",
     "text": [
      "<class 'pandas.core.frame.DataFrame'>\n",
      "RangeIndex: 7736 entries, 0 to 7735\n",
      "Data columns (total 21 columns):\n",
      " #   Column             Non-Null Count  Dtype \n",
      "---  ------             --------------  ----- \n",
      " 0   ID                 7736 non-null   object\n",
      " 1   gender             7736 non-null   object\n",
      " 2   age                7736 non-null   int64 \n",
      " 3   race               7736 non-null   object\n",
      " 4   dwelling           7736 non-null   object\n",
      " 5   dwelling_type      7736 non-null   object\n",
      " 6   province_code      7736 non-null   object\n",
      " 7   metro_code         7736 non-null   object\n",
      " 8   psu                7736 non-null   int64 \n",
      " 9   nationality        7736 non-null   object\n",
      " 10  RTH                7736 non-null   object\n",
      " 11  marital_st         7736 non-null   object\n",
      " 12  Lang_inside        7736 non-null   object\n",
      " 13  Lang_outside       7736 non-null   object\n",
      " 14  Education          7736 non-null   object\n",
      " 15  lw_work            7736 non-null   object\n",
      " 16  lw_business        7736 non-null   object\n",
      " 17  help_on_household  7736 non-null   object\n",
      " 18  job_or_business    7736 non-null   object\n",
      " 19  nature_of_work     7736 non-null   object\n",
      " 20  target             7736 non-null   int64 \n",
      "dtypes: int64(3), object(18)\n",
      "memory usage: 1.2+ MB\n"
     ]
    }
   ],
   "source": [
    "train.info()"
   ]
  },
  {
   "cell_type": "code",
   "execution_count": 4,
   "metadata": {
    "scrolled": true
   },
   "outputs": [
    {
     "name": "stdout",
     "output_type": "stream",
     "text": [
      "<class 'pandas.core.frame.DataFrame'>\n",
      "RangeIndex: 3316 entries, 0 to 3315\n",
      "Data columns (total 20 columns):\n",
      " #   Column             Non-Null Count  Dtype \n",
      "---  ------             --------------  ----- \n",
      " 0   ID                 3316 non-null   object\n",
      " 1   gender             3316 non-null   object\n",
      " 2   age                3316 non-null   int64 \n",
      " 3   race               3316 non-null   object\n",
      " 4   dwelling           3316 non-null   object\n",
      " 5   dwelling_type      3316 non-null   object\n",
      " 6   province_code      3316 non-null   object\n",
      " 7   metro_code         3316 non-null   object\n",
      " 8   psu                3316 non-null   int64 \n",
      " 9   nationality        3316 non-null   object\n",
      " 10  RTH                3316 non-null   object\n",
      " 11  marital_st         3316 non-null   object\n",
      " 12  Lang_inside        3316 non-null   object\n",
      " 13  Lang_outside       3316 non-null   object\n",
      " 14  Education          3316 non-null   object\n",
      " 15  lw_work            3316 non-null   object\n",
      " 16  lw_business        3316 non-null   object\n",
      " 17  help_on_household  3316 non-null   object\n",
      " 18  job_or_business    3316 non-null   object\n",
      " 19  nature_of_work     3316 non-null   object\n",
      "dtypes: int64(2), object(18)\n",
      "memory usage: 518.2+ KB\n"
     ]
    }
   ],
   "source": [
    "test.info()"
   ]
  },
  {
   "cell_type": "code",
   "execution_count": 5,
   "metadata": {},
   "outputs": [
    {
     "data": {
      "text/plain": [
       "Black African    6312\n",
       "Coloured          700\n",
       "White             585\n",
       "Indian/Asian      139\n",
       "Name: race, dtype: int64"
      ]
     },
     "execution_count": 5,
     "metadata": {},
     "output_type": "execute_result"
    }
   ],
   "source": [
    "train['race'].value_counts()"
   ]
  },
  {
   "cell_type": "code",
   "execution_count": 8,
   "metadata": {},
   "outputs": [
    {
     "data": {
      "text/plain": [
       "Single and have never been married/never lived together as husband/wife before    3246\n",
       "Married                                                                           2861\n",
       "Widowed                                                                           1078\n",
       "Divorced                                                                           457\n",
       "Separated; but still legally married                                                78\n",
       "Unspecified                                                                         16\n",
       "Name: marital_st, dtype: int64"
      ]
     },
     "execution_count": 8,
     "metadata": {},
     "output_type": "execute_result"
    }
   ],
   "source": [
    "train['marital_st'].value_counts()"
   ]
  },
  {
   "cell_type": "code",
   "execution_count": 7,
   "metadata": {},
   "outputs": [],
   "source": [
    "train['marital_st']= train['marital_st'].replace(['Living together like husband and wife'],'Married')\n",
    "train['marital_st']= train['marital_st'].replace(['Single; but have been living together with someone as husband/wife before'],'Divorced')"
   ]
  },
  {
   "cell_type": "code",
   "execution_count": 9,
   "metadata": {},
   "outputs": [
    {
     "data": {
      "text/plain": [
       "No                4470\n",
       "Not applicable    3101\n",
       "Unspecified        105\n",
       "Yes                 57\n",
       "Do not know          3\n",
       "Name: job_or_business, dtype: int64"
      ]
     },
     "execution_count": 9,
     "metadata": {},
     "output_type": "execute_result"
    }
   ],
   "source": [
    "train['job_or_business'].value_counts()"
   ]
  },
  {
   "cell_type": "code",
   "execution_count": null,
   "metadata": {},
   "outputs": [],
   "source": [
    "train['nature_of_work'].value_counts()"
   ]
  },
  {
   "cell_type": "code",
   "execution_count": null,
   "metadata": {},
   "outputs": [],
   "source": [
    "train['nature_of_work']= train['nature_of_work'].replace(['A fixed period contract', 'Seasonal'],'Temporary')"
   ]
  },
  {
   "cell_type": "code",
   "execution_count": null,
   "metadata": {},
   "outputs": [],
   "source": []
  },
  {
   "cell_type": "code",
   "execution_count": null,
   "metadata": {},
   "outputs": [],
   "source": []
  },
  {
   "cell_type": "code",
   "execution_count": null,
   "metadata": {},
   "outputs": [],
   "source": [
    "cat_cols = ['gender', 'race', \n",
    "            'dwelling', 'dwelling_type','province_code','metro_code','nationality', 'RTH','marital_st','Lang_inside','Lang_outside',\n",
    "            'Education',\n",
    "             'lw_work',\n",
    "              'lw_business',\n",
    "               'help_on_household',\n",
    "                'job_or_business',\n",
    "                 'nature_of_work']\n",
    "num_cols = ['age', 'psu', 'target'] + [x for x in train.columns if x.startswith('Q')]\n",
    "\n",
    "# Change columns to their respective datatypes\n",
    "train[cat_cols] = train[cat_cols].astype('category')\n",
    "\n",
    "# Confirm whether the changes have been successful\n",
    "train.info()"
   ]
  },
  {
   "cell_type": "code",
   "execution_count": null,
   "metadata": {},
   "outputs": [],
   "source": []
  },
  {
   "cell_type": "code",
   "execution_count": null,
   "metadata": {},
   "outputs": [],
   "source": [
    "cat_cols = ['gender', 'race', \n",
    "            'dwelling', 'dwelling_type','province_code','metro_code','nationality', 'RTH','marital_st','Lang_inside','Lang_outside',\n",
    "            'Education',\n",
    "             'lw_work',\n",
    "              'lw_business',\n",
    "               'help_on_household',\n",
    "                'job_or_business',\n",
    "                 'nature_of_work']\n",
    "num_cols = ['age', 'psu'] + [x for x in test.columns if x.startswith('Q')]\n",
    "\n",
    "# Change columns to their respective datatypes\n",
    "test[cat_cols] = test[cat_cols].astype('category')\n",
    "\n",
    "# Confirm whether the changes have been successful\n",
    "test.info()"
   ]
  },
  {
   "cell_type": "code",
   "execution_count": null,
   "metadata": {},
   "outputs": [],
   "source": [
    "# TODO: create a LabelEncoder object and fit it to each feature in X\n",
    "#import preprocessing from sklearn\n",
    "from sklearn import preprocessing\n",
    "\n",
    "# 1. INSTANTIATE\n",
    "# encode labels with value between 0 and n_classes-1.\n",
    "le = preprocessing.LabelEncoder()\n",
    "\n",
    "\n",
    "# 2/3. FIT AND TRANSFORM\n",
    "# use df.apply() to apply le.fit_transform to all columns\n",
    "train = train.apply(le.fit_transform)\n",
    "train.head()"
   ]
  },
  {
   "cell_type": "code",
   "execution_count": null,
   "metadata": {},
   "outputs": [],
   "source": [
    "# TODO: create a OneHotEncoder object, and fit it to all of X\n",
    "\n",
    "# 1. INSTANTIATE\n",
    "enc = preprocessing.OneHotEncoder()\n",
    "\n",
    "# 2. FIT\n",
    "enc.fit(train)\n",
    "\n",
    "# 3. Transform\n",
    "onehotlabels = enc.transform(train).toarray()\n",
    "onehotlabels.shape\n",
    "\n",
    "# as you can see, you've the same number of rows 891\n",
    "# but now you've so many more columns due to how we changed all the categorical data into numerical data"
   ]
  },
  {
   "cell_type": "code",
   "execution_count": null,
   "metadata": {},
   "outputs": [],
   "source": [
    "train.head()"
   ]
  },
  {
   "cell_type": "raw",
   "metadata": {},
   "source": []
  },
  {
   "cell_type": "code",
   "execution_count": null,
   "metadata": {},
   "outputs": [],
   "source": [
    "# TODO: create a LabelEncoder object and fit it to each feature in X\n",
    "#import preprocessing from sklearn\n",
    "from sklearn import preprocessing\n",
    "\n",
    "# 1. INSTANTIATE\n",
    "# encode labels with value between 0 and n_classes-1.\n",
    "le = preprocessing.LabelEncoder()\n",
    "\n",
    "\n",
    "# 2/3. FIT AND TRANSFORM\n",
    "# use df.apply() to apply le.fit_transform to all columns\n",
    "test = test.apply(le.fit_transform)\n",
    "test.head()"
   ]
  },
  {
   "cell_type": "code",
   "execution_count": null,
   "metadata": {},
   "outputs": [],
   "source": [
    "# TODO: create a OneHotEncoder object, and fit it to all of X\n",
    "\n",
    "# 1. INSTANTIATE\n",
    "enc = preprocessing.OneHotEncoder()\n",
    "\n",
    "# 2. FIT\n",
    "enc.fit(test)\n",
    "\n",
    "# 3. Transform\n",
    "onehotlabels = enc.transform(test).toarray()\n",
    "onehotlabels.shape\n",
    "\n",
    "# as you can see, you've the same number of rows 891\n",
    "# but now you've so many more columns due to how we changed all the categorical data into numerical data"
   ]
  },
  {
   "cell_type": "code",
   "execution_count": null,
   "metadata": {},
   "outputs": [],
   "source": [
    "X = train.drop([\"target\", \"ID\", \"gender\"], axis=1) # feature columns\n",
    "y = train.target.astype(int) # the label/target column"
   ]
  },
  {
   "cell_type": "code",
   "execution_count": null,
   "metadata": {},
   "outputs": [],
   "source": [
    "# Split data into train and test sets\n",
    "X_train, X_test, y_train, y_test = train_test_split(X,y,test_size=0.3)"
   ]
  },
  {
   "cell_type": "code",
   "execution_count": null,
   "metadata": {},
   "outputs": [],
   "source": [
    "from catboost import CatBoostClassifier\n",
    "import numpy as np"
   ]
  },
  {
   "cell_type": "code",
   "execution_count": null,
   "metadata": {},
   "outputs": [],
   "source": [
    "from sklearn.model_selection import KFold,train_test_split,RepeatedStratifiedKFold\n",
    "#skf = KFold(n_splits=30,random_state=42)\n",
    "rskf = RepeatedStratifiedKFold(n_splits=10, n_repeats=5, random_state=45)\n",
    "\n",
    "\n",
    "#def metric(y_test,y_pred):\n",
    "    #return roc_auc_score(y_test,y_pred)\n",
    "\n",
    "preds ,scores = [],[]\n",
    "i = 10\n",
    "#pred_test = list(np.zeros(len(test)))\n",
    "for fold,(trn_idx,val_idx) in enumerate(rskf.split(X,y)):\n",
    "    X_train,X_test = X.iloc[trn_idx],X.iloc[val_idx]\n",
    "    y_train,y_test = y.iloc[trn_idx],y.iloc[val_idx]\n",
    "    model = CatBoostClassifier(iterations=4000,\n",
    "                           depth=8,learning_rate=0.04)\n",
    "    model.fit(X_train,y_train,eval_set=[(X_test,y_test)],verbose=100,early_stopping_rounds=300,use_best_model=True, cat_features=['race'])\n",
    "\n",
    "    score = roc_auc_score(y_test, model.predict_proba(X_test)[:, 1])\n",
    "    scores.append(score) \n",
    "    pred = model.predict_proba(test1)[:, 1]\n",
    "    preds.append(pred)\n",
    "    print(score)\n",
    "    i -= 1\n",
    " \n",
    "np.mean(scores)"
   ]
  },
  {
   "cell_type": "code",
   "execution_count": null,
   "metadata": {},
   "outputs": [],
   "source": [
    "pred_test = np.zeros(len(test))"
   ]
  },
  {
   "cell_type": "code",
   "execution_count": null,
   "metadata": {},
   "outputs": [],
   "source": [
    "list(pred_test)"
   ]
  },
  {
   "cell_type": "code",
   "execution_count": null,
   "metadata": {},
   "outputs": [],
   "source": [
    "p = np.mean(preds, axis=0)\n",
    "print(p)\n",
    "samplesubmission[\"target\"] = p\n",
    "samplesubmission.to_csv(\"c.csv\", index=False)\n",
    "samplesubmission.head()"
   ]
  },
  {
   "cell_type": "code",
   "execution_count": null,
   "metadata": {},
   "outputs": [],
   "source": []
  },
  {
   "cell_type": "code",
   "execution_count": null,
   "metadata": {},
   "outputs": [],
   "source": [
    "# Train model\n",
    "from sklearn.neighbors import KNeighborsClassifier\n",
    "classifier = KNeighborsClassifier(algorithm='auto', leaf_size=30, metric='minkowski',\n",
    " metric_params=None, n_jobs=1, n_neighbors=100, p=2,\n",
    " weights='uniform')\n",
    "classifier.fit(X_train, y_train)\n",
    "\n",
    "# Make predictions\n",
    "y_pred = classifier.predict_proba(X_test)[:, 1]\n",
    "\n",
    "# Check the auc score of the model\n",
    "print(f'RandomForest AUC score on the X_test is: {roc_auc_score(y_test, y_pred)}\\n')\n",
    "\n",
    "# print classification report\n",
    "print(classification_report(y_test, [1 if x >= 0.5 else 0 for x in y_pred]))"
   ]
  },
  {
   "cell_type": "code",
   "execution_count": null,
   "metadata": {},
   "outputs": [],
   "source": [
    "roc_auc_score(y_test, y_pred)"
   ]
  },
  {
   "cell_type": "code",
   "execution_count": null,
   "metadata": {},
   "outputs": [],
   "source": [
    "### predict on the test data\n",
    "test_ = test.drop([\"ID\", 'gender'], axis=1)\n",
    "test_predictions = model.predict(test_)\n",
    "samplesubmission[\"ID\"] = test[\"ID\"]\n",
    "samplesubmission[\"target\"] = test_predictions\n",
    "# file\n",
    "samplesubmission.to_csv(\"submission2.csv\", index=False)"
   ]
  },
  {
   "cell_type": "code",
   "execution_count": null,
   "metadata": {},
   "outputs": [],
   "source": [
    "#import pandas as pd\n",
    "#Read the data\n",
    "a = pd.read_csv('2th.csv')\n",
    "b = pd.read_csv('3th.csv')"
   ]
  },
  {
   "cell_type": "code",
   "execution_count": null,
   "metadata": {},
   "outputs": [],
   "source": [
    "# Check correlation\n",
    "a['target'].corr(b['target'])"
   ]
  },
  {
   "cell_type": "code",
   "execution_count": null,
   "metadata": {},
   "outputs": [],
   "source": [
    "# Averaging\n",
    "a['target'] = 0.5*a['target'] + 0.5*b['target']"
   ]
  },
  {
   "cell_type": "code",
   "execution_count": null,
   "metadata": {},
   "outputs": [],
   "source": [
    "a.to_csv('pre1.csv', index=False)"
   ]
  },
  {
   "cell_type": "code",
   "execution_count": null,
   "metadata": {},
   "outputs": [],
   "source": [
    "test1 = test.drop(columns=['ID', 'gender'], axis=1)"
   ]
  },
  {
   "cell_type": "code",
   "execution_count": null,
   "metadata": {},
   "outputs": [],
   "source": [
    "# Make predictions on the test data\n",
    "y_pred = classifier.predict_proba(test1)[:,1]"
   ]
  },
  {
   "cell_type": "code",
   "execution_count": null,
   "metadata": {},
   "outputs": [],
   "source": [
    "samplesubmission['target'] = y_pred\n",
    "samplesubmission.to_csv('a.csv', index=False)"
   ]
  }
 ],
 "metadata": {
  "kernelspec": {
   "display_name": "Python 3",
   "language": "python",
   "name": "python3"
  },
  "language_info": {
   "codemirror_mode": {
    "name": "ipython",
    "version": 3
   },
   "file_extension": ".py",
   "mimetype": "text/x-python",
   "name": "python",
   "nbconvert_exporter": "python",
   "pygments_lexer": "ipython3",
   "version": "3.8.5"
  }
 },
 "nbformat": 4,
 "nbformat_minor": 4
}
